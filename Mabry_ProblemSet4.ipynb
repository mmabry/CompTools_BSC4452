{
 "cells": [
  {
   "cell_type": "markdown",
   "metadata": {},
   "source": [
    "Problem set 4\n",
    "\n",
    "For each API, write a script to retrieve information using that API and select part of that to save/print/graph/display in a useful/interesting manner. Again the information retrieved is up to you, though you must do more than print the entire returned value.\n"
   ]
  },
  {
   "cell_type": "code",
   "execution_count": 2,
   "metadata": {},
   "outputs": [],
   "source": [
    "import idigbio\n",
    "api = idigbio.json()"
   ]
  },
  {
   "cell_type": "code",
   "execution_count": 24,
   "metadata": {},
   "outputs": [
    {
     "name": "stdout",
     "output_type": "stream",
     "text": [
      "1834\n"
     ]
    }
   ],
   "source": [
    "## Search or records by scientific name and get count \n",
    "\n",
    "record_list = api.search_records(rq={\"scientificname\": \"cryptantha pterocarya\"})\n",
    "print(record_list[\"itemCount\"])"
   ]
  },
  {
   "cell_type": "code",
   "execution_count": 27,
   "metadata": {},
   "outputs": [
    {
     "name": "stdout",
     "output_type": "stream",
     "text": [
      "581\n"
     ]
    }
   ],
   "source": [
    "## Search for Records that have images\n",
    "\n",
    "recordImage_list = api.search_records(rq={\"scientificname\": \"cryptantha pterocarya\", \"hasImage\": True})\n",
    "print(recordImage_list[\"itemCount\"])"
   ]
  },
  {
   "cell_type": "code",
   "execution_count": 34,
   "metadata": {},
   "outputs": [],
   "source": [
    "## Create a point map \n",
    "\n",
    "m = api.create_map(rq={\"scientificname\": \"cryptantha pterocarya\"}, t=\"points\")\n",
    "m.save_map_image(\"cryptantha_pterocarya_map_points\", 2)"
   ]
  },
  {
   "cell_type": "code",
   "execution_count": 3,
   "metadata": {},
   "outputs": [],
   "source": [
    "## Create a zoomed in point map for a bounding box\n",
    "\n",
    "bbox = {\"type\": \"geo_bounding_box\", \"bottom_right\": {\"lat\": 24.0, \"lon\": -68.0}, \"top_left\": {\"lat\": 50.0, \"lon\": -128.0}}\n",
    "m = api.create_map(rq={\"scientificname\": \"cryptantha pterocarya\", \"geopoint\": bbox }, t=\"points\")\n",
    "m.save_map_image(\"cryptantha_pterocarya_map_zoom.png\", None, bbox=bbox)"
   ]
  }
 ],
 "metadata": {
  "kernelspec": {
   "display_name": "Python 3.8 (full)",
   "language": "python",
   "name": "python3-3.8-ufrc"
  },
  "language_info": {
   "codemirror_mode": {
    "name": "ipython",
    "version": 3
   },
   "file_extension": ".py",
   "mimetype": "text/x-python",
   "name": "python",
   "nbconvert_exporter": "python",
   "pygments_lexer": "ipython3",
   "version": "3.8.5"
  }
 },
 "nbformat": 4,
 "nbformat_minor": 4
}

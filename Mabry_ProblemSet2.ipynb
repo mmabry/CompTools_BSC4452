{
 "cells": [
  {
   "cell_type": "markdown",
   "metadata": {},
   "source": [
    "# Problem 1 (5 pts):\n",
    "\n",
    "Write a script (or Jupyter Notebook code block) that opens the file, uses a for loop to read through the file line by line and reports the highest water level and the date and time that was observed."
   ]
  },
  {
   "cell_type": "code",
   "execution_count": 26,
   "metadata": {},
   "outputs": [],
   "source": [
    "fhand = open('/blue/bsc4452/share/Class_Files/data/CO-OPS__8729108__wl.csv')"
   ]
  },
  {
   "cell_type": "code",
   "execution_count": 27,
   "metadata": {},
   "outputs": [
    {
     "name": "stdout",
     "output_type": "stream",
     "text": [
      "2018-10-10 18:06 6.647\n"
     ]
    }
   ],
   "source": [
    "CurrentMax = 0.0\n",
    "CurrentDate = \"\"\n",
    "for line in fhand:\n",
    "    line = line.strip().split(\",\")\n",
    "    try:\n",
    "        CurrentVal = float(line[1])\n",
    "    except:\n",
    "        continue  \n",
    "    \n",
    "    if CurrentMax < float(line[1]):\n",
    "        CurrentMax = float(line[1])\n",
    "        CurrentDate = line[0]\n",
    "\n",
    "print(CurrentDate, CurrentMax)\n"
   ]
  },
  {
   "cell_type": "markdown",
   "metadata": {},
   "source": [
    "# Problem 2 (5 pts):\n",
    "\n",
    "Either in a new script or modifying the above script, calculate the lowest, highest and average water level observed during the time period. As above, print the date and time for the lowest and highest readings. "
   ]
  },
  {
   "cell_type": "code",
   "execution_count": 28,
   "metadata": {},
   "outputs": [],
   "source": [
    "fhand = open('/blue/bsc4452/share/Class_Files/data/CO-OPS__8729108__wl.csv')"
   ]
  },
  {
   "cell_type": "code",
   "execution_count": 29,
   "metadata": {},
   "outputs": [
    {
     "name": "stdout",
     "output_type": "stream",
     "text": [
      "Max: 2018-10-10 18:06 6.647\n",
      "Min: 2018-10-11 15:36 1.621\n",
      "Average: 2.9823232044198904\n"
     ]
    }
   ],
   "source": [
    "CurrentMax = 0.0\n",
    "CurrentMin = 100\n",
    "CurrentDateMax = \"\"\n",
    "CurrentDateMin = \"\"\n",
    "WaterList = []\n",
    "for line in fhand:\n",
    "    line = line.strip().split(\",\")\n",
    "    try:\n",
    "        CurrentVal = float(line[1])\n",
    "    except:\n",
    "        continue  \n",
    "    \n",
    "    if CurrentMax < float(line[1]):\n",
    "        CurrentMax = float(line[1])\n",
    "        CurrentDateMax = line[0]\n",
    "    \n",
    "    if CurrentMin > float(line[1]):\n",
    "        CurrentMin = float(line[1])\n",
    "        CurrentDateMin = line[0]\n",
    "        \n",
    "    WaterList.append(float(line[1]))\n",
    "    \n",
    "\n",
    "print('Max:', CurrentDateMax, CurrentMax)\n",
    "print('Min:', CurrentDateMin, CurrentMin)\n",
    "print('Average:', sum(WaterList)/len(WaterList))"
   ]
  },
  {
   "cell_type": "markdown",
   "metadata": {},
   "source": [
    "# Problem 3 (5 pts):\n",
    "\n",
    "Write a script (or Jupyter Notebook) that calculates the fastest rise in water level per 6-minute period between measurements (for this assignment, assume that each line of the dataset is a 6-minute interval) and reports the date and time that was observed and the change in water level from the previous recording."
   ]
  },
  {
   "cell_type": "code",
   "execution_count": 3,
   "metadata": {},
   "outputs": [],
   "source": [
    "fhand = open('/blue/bsc4452/share/Class_Files/data/CO-OPS__8729108__wl.csv')"
   ]
  },
  {
   "cell_type": "code",
   "execution_count": 4,
   "metadata": {},
   "outputs": [
    {
     "name": "stdout",
     "output_type": "stream",
     "text": [
      "Max Rise: 2018-10-10 17:42 0.6400000000000006\n"
     ]
    }
   ],
   "source": [
    "MaxRise = 0.0\n",
    "lineNum = 0\n",
    "\n",
    "for line in fhand:\n",
    "    line = line.strip().split(\",\")\n",
    "    try:\n",
    "        CurrentVal = float(line[1])\n",
    "    except:\n",
    "        lineNum = lineNum + 1\n",
    "        continue  \n",
    "    \n",
    "    if lineNum == 1:\n",
    "        StartVal = float(line[1])\n",
    "    \n",
    "    EndVal = float(line[1])\n",
    "    Rise = EndVal - StartVal\n",
    "        \n",
    "    if Rise > MaxRise:\n",
    "        MaxRise = Rise\n",
    "        EndValDate = line[0]\n",
    "    StartVal = EndVal\n",
    "    lineNum = lineNum + 1\n",
    "        \n",
    "\n",
    "print('Max Rise:', EndValDate, MaxRise)"
   ]
  },
  {
   "cell_type": "markdown",
   "metadata": {},
   "source": [
    "# Problem 4 (5 pts):\n",
    "Imagine that the file is providing live readings of the water level. Write a script (or Jupyter Notebook) to print a line of text with a warning if any of these events occur:\n",
    "\n",
    "* The water level increases more than 0.25 since the previous recording.\n",
    "* The water level is over 5.0.\n",
    "* No reading is received at a time point."
   ]
  },
  {
   "cell_type": "code",
   "execution_count": 24,
   "metadata": {},
   "outputs": [],
   "source": [
    "fhand = open('/blue/bsc4452/share/Class_Files/data/CO-OPS__8729108__wl.csv')"
   ]
  },
  {
   "cell_type": "code",
   "execution_count": 25,
   "metadata": {},
   "outputs": [
    {
     "name": "stdout",
     "output_type": "stream",
     "text": [
      "The water level increases more than 0.25 since the previous recording on 2018-10-10 17:30\n",
      "The water level increases more than 0.25 since the previous recording on 2018-10-10 17:36\n",
      "The water level increases more than 0.25 since the previous recording on 2018-10-10 17:42\n",
      "The water level is over 5.0 on 2018-10-10 17:42\n",
      "The water level increases more than 0.25 since the previous recording on 2018-10-10 17:48\n",
      "The water level is over 5.0 on 2018-10-10 17:48\n",
      "The water level increases more than 0.25 since the previous recording on 2018-10-10 17:54\n",
      "The water level is over 5.0 on 2018-10-10 17:54\n",
      "The water level is over 5.0 on 2018-10-10 18:00\n",
      "The water level is over 5.0 on 2018-10-10 18:06\n",
      "The water level is over 5.0 on 2018-10-10 18:12\n",
      "No reading is received at a time point on 2018-10-10 18:18\n",
      "The water level is over 5.0 on 2018-10-10 18:24\n",
      "The water level is over 5.0 on 2018-10-10 18:30\n",
      "The water level is over 5.0 on 2018-10-10 18:36\n",
      "The water level is over 5.0 on 2018-10-10 18:42\n",
      "The water level is over 5.0 on 2018-10-10 18:48\n",
      "The water level is over 5.0 on 2018-10-10 18:54\n",
      "The water level is over 5.0 on 2018-10-10 19:00\n"
     ]
    }
   ],
   "source": [
    "lineNum = 0\n",
    "MaxRise = 0.25\n",
    "MaxLevel = 5.0\n",
    "\n",
    "for line in fhand:\n",
    "    line = line.strip().split(\",\")\n",
    "    try:\n",
    "        CurrentVal = float(line[1])\n",
    "    except:\n",
    "        if line[1] == \"\":\n",
    "            print(f\"No reading is received at a time point on {line[0]}\")\n",
    "        lineNum = lineNum + 1\n",
    "        continue  \n",
    "        \n",
    "    if lineNum == 1:\n",
    "        StartVal = float(line[1])\n",
    "    \n",
    "    EndVal = float(line[1])\n",
    "    Rise = EndVal - StartVal\n",
    "        \n",
    "    if Rise > MaxRise:\n",
    "        print(f\"The water level increases more than 0.25 since the previous recording on {line[0]}\")\n",
    "    StartVal = EndVal\n",
    "    lineNum = lineNum + 1\n",
    "        \n",
    "    if MaxLevel < float(line[1]):\n",
    "        print(f\"The water level is over 5.0 on {line[0]}\")\n",
    "        "
   ]
  }
 ],
 "metadata": {
  "kernelspec": {
   "display_name": "Python 3.8 (full)",
   "language": "python",
   "name": "python3-3.8-ufrc"
  },
  "language_info": {
   "codemirror_mode": {
    "name": "ipython",
    "version": 3
   },
   "file_extension": ".py",
   "mimetype": "text/x-python",
   "name": "python",
   "nbconvert_exporter": "python",
   "pygments_lexer": "ipython3",
   "version": "3.8.5"
  }
 },
 "nbformat": 4,
 "nbformat_minor": 4
}

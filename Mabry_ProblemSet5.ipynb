{
 "cells": [
  {
   "cell_type": "markdown",
   "metadata": {},
   "source": [
    "# Problem set 5\n",
    "### Copied database from /blue/bsc4452/share/Class_Files"
   ]
  },
  {
   "cell_type": "code",
   "execution_count": 1,
   "metadata": {},
   "outputs": [],
   "source": [
    "# Import only the modules needed from sqlalchemy\n",
    "from sqlalchemy import create_engine\n",
    "from sqlalchemy import MetaData\n",
    "from sqlalchemy import Table, Column\n",
    "from sqlalchemy import Integer, String\n",
    "from sqlalchemy import sql, select, join, desc\n",
    "from sqlalchemy import func\n",
    "\n",
    "# Create a Engine object which is our handle into the database.\n",
    "engine = create_engine('sqlite:///world.sqlite')\n",
    "\n",
    "# Connect to the database\n",
    "conn = engine.connect()\n",
    "\n",
    "# Read the metadata from the existing database.\n",
    "#  Since the database already exists and has tables defined, we can create Python objects based on these automatically.\n",
    "DBInfo=MetaData(engine)"
   ]
  },
  {
   "cell_type": "markdown",
   "metadata": {},
   "source": [
    "## Question 1 (5 points):\n",
    "### What is the country with the latest year (most recent) of independence?"
   ]
  },
  {
   "cell_type": "code",
   "execution_count": 2,
   "metadata": {},
   "outputs": [
    {
     "name": "stdout",
     "output_type": "stream",
     "text": [
      "('Palau', 1994)\n"
     ]
    }
   ],
   "source": [
    "# Auto-create the country object basedon the metadata read into the DBInfo.\n",
    "country=Table('country', DBInfo, autoload=True)\n",
    "\n",
    "# SELECT Name, IndepYear FROM country ORDER BY IndepYear DESC LIMIT 1;\n",
    "query=select([country.c.Name, country.c.IndepYear])\\\n",
    "             .order_by(desc(country.c.IndepYear))\\\n",
    "             .limit(1)\n",
    "\n",
    "result = conn.execute(query)\n",
    "\n",
    "# Print results\n",
    "for row in result:\n",
    "    print(row)"
   ]
  },
  {
   "cell_type": "markdown",
   "metadata": {},
   "source": [
    "## Question 2 (5 points):\n",
    "### There are several countries that have become independent since the country in your answer to question 1, add one to the database."
   ]
  },
  {
   "cell_type": "code",
   "execution_count": 3,
   "metadata": {},
   "outputs": [
    {
     "name": "stdout",
     "output_type": "stream",
     "text": [
      "('SEN', 'Senegal', 'Africa', 'Western Africa', 1960, 9481000)\n",
      "('SYC', 'Seychelles', 'Africa', 'Eastern Africa', 1976, 77000)\n",
      "('SER', 'Serbia', 'Europe', 'Eastern Europe', 2006, 6963764)\n"
     ]
    }
   ],
   "source": [
    "### Question 2 (5 points):\n",
    "\n",
    "## Make sure country code is available\n",
    "# query=select([country.c.Code, country.c.Name]).where(country.c.Code.like('SE%'))\n",
    "# result = conn.execute(query)\n",
    "# for row in result:\n",
    "#    print(row)\n",
    "\n",
    "## Check to see what options there are for filling in data\n",
    "# print(country.insert())\n",
    "\n",
    "## Add insert for Serbia\n",
    "my_insert_serbia=country.insert().values(Code='SER', Name='Serbia', Continent='Europe', Region='Eastern Europe', IndepYear='2006', Population='6963764')\n",
    "#print(my_insert_serbia)\n",
    "\n",
    "result = conn.execute(my_insert_serbia)\n",
    "\n",
    "## Check to make sure it was added\n",
    "query=select([country.c.Code, country.c.Name, country.c.Continent, country.c.Region, country.c.IndepYear, country.c.Population]).where(country.c.Name.like('Se%'))\n",
    "\n",
    "result = conn.execute(query)\n",
    "\n",
    "for row in result:\n",
    "    print(row)\n"
   ]
  },
  {
   "cell_type": "markdown",
   "metadata": {},
   "source": [
    "## Question 3 (5 points):\n",
    "#### For the country added in question 2, find 2 cities to add to the cities table of the database."
   ]
  },
  {
   "cell_type": "code",
   "execution_count": 4,
   "metadata": {},
   "outputs": [
    {
     "name": "stdout",
     "output_type": "stream",
     "text": [
      "('Belgrade', 'SER', 1659440)\n",
      "('Crna Trava', 'SER', 1663)\n"
     ]
    }
   ],
   "source": [
    "# Auto-create the cities object basedon the metadata read into the DBInfo.\n",
    "city=Table('city', DBInfo, autoload=True)\n",
    "\n",
    "## Check to see what options there are for filling in data\n",
    "#print(city.insert())\n",
    "\n",
    "## Add insert for Belgrade, Serbia (largest population)\n",
    "my_insert_belgrade=city.insert().values(Name='Belgrade', CountryCode='SER', Population='1659440')\n",
    "#print(my_insert_belgrade)\n",
    "result = conn.execute(my_insert_belgrade)\n",
    "\n",
    "## Add insert for Crna Trava, Serbia (smallest population)\n",
    "my_insert_crnatrva=city.insert().values(Name='Crna Trava', CountryCode='SER', Population='1663')\n",
    "#print(my_insert_crnatrva)\n",
    "result = conn.execute(my_insert_crnatrva)\n",
    "\n",
    "\n",
    "## Check to make sure the inserts were added\n",
    "query=select([city.c.Name, city.c.CountryCode, city.c.Population]).where(city.c.CountryCode.like('SER'))\n",
    "\n",
    "result = conn.execute(query)\n",
    "\n",
    "for row in result:\n",
    "    print(row)\n"
   ]
  },
  {
   "cell_type": "markdown",
   "metadata": {},
   "source": [
    "## Question 4 (5 points):\n",
    "### Using the LifeExpectancy data in the country table on the y-axis, plot this data against some other value."
   ]
  },
  {
   "cell_type": "code",
   "execution_count": 5,
   "metadata": {},
   "outputs": [
    {
     "name": "stdout",
     "output_type": "stream",
     "text": [
      "                  Continent  IndepYear  LifeExpectancy  Population       GNP\n",
      "Name                                                                        \n",
      "Aruba         North America        NaN            78.4      103000     828.0\n",
      "Afghanistan            Asia     1919.0            45.9    22720000    5976.0\n",
      "Angola               Africa     1975.0            38.3    12878000    6648.0\n",
      "Anguilla      North America        NaN            76.1        8000      63.2\n",
      "Albania              Europe     1912.0            71.6     3401200    3205.0\n",
      "...                     ...        ...             ...         ...       ...\n",
      "Yugoslavia           Europe     1918.0            72.4    10640000   17000.0\n",
      "South Africa         Africa     1910.0            51.1    40377000  116729.0\n",
      "Zambia               Africa     1964.0            37.2     9169000    3377.0\n",
      "Zimbabwe             Africa     1980.0            37.8    11669000    5951.0\n",
      "Serbia               Europe     2006.0             NaN     6963764       NaN\n",
      "\n",
      "[240 rows x 5 columns]\n"
     ]
    },
    {
     "data": {
      "image/png": "[encoded data removed]",
      "text/plain": [
       "<Figure size 432x288 with 1 Axes>"
      ]
     },
     "metadata": {
      "needs_background": "light"
     },
     "output_type": "display_data"
    }
   ],
   "source": [
    "# Import what is needed \n",
    "import pandas as pd\n",
    "import matplotlib.pyplot as plt\n",
    "import numpy as np\n",
    "\n",
    "## Get data for dataframe\n",
    "query=select([country.c.Name, country.c.Continent, country.c.IndepYear, country.c.LifeExpectancy, country.c.Population, country.c.GNP])\n",
    "\n",
    "result = conn.execute(query)\n",
    "\n",
    "## Make pandas dataframe\n",
    "df=pd.read_sql(query, conn, index_col='Name')\n",
    "\n",
    "print(df)\n",
    "\n",
    "## Plot \n",
    "x = df['Continent']\n",
    "y = df['LifeExpectancy']\n",
    "\n",
    "\n",
    "plt.bar(x, y)\n",
    "plt.xlabel(\"Continent\", labelpad=20)\n",
    "plt.ylabel(\"LifeExpectancy\", labelpad=20)\n",
    "plt.title(\"LifeExpectancy vs Continent\", y=1.015, fontsize=22);\n",
    "\n",
    "plt.show()\n",
    "\n"
   ]
  },
  {
   "cell_type": "markdown",
   "metadata": {},
   "source": [
    "## Grad student extra credit (5 points, sorry undergrads, only question 4 counts as extra credit):\n",
    "### Plot LifeExpectancy vs the ratio of the total population of all the cities in the country divided by the total population of the country. This is an approximation of the % urban population in the country."
   ]
  },
  {
   "cell_type": "code",
   "execution_count": 6,
   "metadata": {},
   "outputs": [
    {
     "name": "stdout",
     "output_type": "stream",
     "text": [
      "             Code  Population  LifeExpectancy CountryCode     sum_1  \\\n",
      "Name                                                                  \n",
      "Aruba         ABW      103000            78.4         ABW     29034   \n",
      "Afghanistan   AFG    22720000            45.9         AFG   2332100   \n",
      "Angola        AGO    12878000            38.3         AGO   2561600   \n",
      "Anguilla      AIA        8000            76.1         AIA      1556   \n",
      "Albania       ALB     3401200            71.6         ALB    270000   \n",
      "...           ...         ...             ...         ...       ...   \n",
      "Yemen         YEM    18112000            59.8         YEM   1743700   \n",
      "Yugoslavia    YUG    10640000            72.4         YUG   2189507   \n",
      "South Africa  ZAF    40377000            51.1         ZAF  15196370   \n",
      "Zambia        ZMB     9169000            37.2         ZMB   2473500   \n",
      "Zimbabwe      ZWE    11669000            37.8         ZWE   2730420   \n",
      "\n",
      "              UrbanPopulation  \n",
      "Name                           \n",
      "Aruba                0.281883  \n",
      "Afghanistan          0.102645  \n",
      "Angola               0.198913  \n",
      "Anguilla             0.194500  \n",
      "Albania              0.079384  \n",
      "...                       ...  \n",
      "Yemen                0.096273  \n",
      "Yugoslavia           0.205781  \n",
      "South Africa         0.376362  \n",
      "Zambia               0.269768  \n",
      "Zimbabwe             0.233989  \n",
      "\n",
      "[233 rows x 6 columns]\n"
     ]
    },
    {
     "data": {
      "image/png": "[encoded data removed]",
      "text/plain": [
       "<Figure size 432x288 with 1 Axes>"
      ]
     },
     "metadata": {
      "needs_background": "light"
     },
     "output_type": "display_data"
    }
   ],
   "source": [
    "## New query for all the cities, country code, and pop\n",
    "query=select([country.c.Code, country.c.Name, country.c.Population,country.c.LifeExpectancy, city.c.CountryCode, func.sum(city.c.Population)]).group_by(city.c.CountryCode).select_from(country.join(city, city.c.CountryCode == country.c.Code))\n",
    "\n",
    "result = conn.execute(query)\n",
    "\n",
    "\n",
    "## Make pandas dataframe\n",
    "df=pd.read_sql(query, conn, index_col='Name')\n",
    "\n",
    "## Make new column to get % urban population\n",
    "UP = df[\"sum_1\"] / df[\"Population\"]\n",
    "df[\"UrbanPopulation\"] = UP\n",
    "print(df)\n",
    "\n",
    "\n",
    "## Plot \n",
    "x = df['UrbanPopulation']\n",
    "y = df['LifeExpectancy']\n",
    "\n",
    "plt.scatter(x, y)\n",
    "plt.xlabel(\"%UrbanPopulation\", labelpad=20)\n",
    "plt.ylabel(\"LifeExpectancy\", labelpad=20)\n",
    "plt.title(\"LifeExpectancy vs %UrbanPopulation\", y=1.015, fontsize=22);\n",
    "\n",
    "plt.show()\n"
   ]
  },
  {
   "cell_type": "code",
   "execution_count": null,
   "metadata": {},
   "outputs": [],
   "source": []
  }
 ],
 "metadata": {
  "kernelspec": {
   "display_name": "Python 3.8 (full)",
   "language": "python",
   "name": "python3-3.8-ufrc"
  },
  "language_info": {
   "codemirror_mode": {
    "name": "ipython",
    "version": 3
   },
   "file_extension": ".py",
   "mimetype": "text/x-python",
   "name": "python",
   "nbconvert_exporter": "python",
   "pygments_lexer": "ipython3",
   "version": "3.8.5"
  }
 },
 "nbformat": 4,
 "nbformat_minor": 4
}
